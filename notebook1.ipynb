{
 "cells": [
  {
   "cell_type": "code",
   "execution_count": 1,
   "id": "2e5a1382-30c4-4b00-82fd-7e121f1d13c7",
   "metadata": {
    "id": "2070d469-3faf-4c19-922c-9ca40b32076a",
    "tags": []
   },
   "outputs": [
    {
     "name": "stdout",
     "output_type": "stream",
     "text": [
      "hellow world\n"
     ]
    }
   ],
   "source": [
    "print(\"hellow world\")"
   ]
  },
  {
   "cell_type": "code",
   "execution_count": null,
   "id": "1a1da017-f342-4a21-be24-113aa1da9685",
   "metadata": {
    "id": "1a1da017-f342-4a21-be24-113aa1da9685"
   },
   "outputs": [],
   "source": [
    "print(\"this notebook changed by collaborator\")"
   ]
  }
 ],
 "metadata": {
  "kernelspec": {
   "display_name": "Python 3.9",
   "language": "python",
   "name": "python3"
  },
  "language_info": {
   "codemirror_mode": {
    "name": "ipython",
    "version": 3
   },
   "file_extension": ".py",
   "mimetype": "text/x-python",
   "name": "python",
   "nbconvert_exporter": "python",
   "pygments_lexer": "ipython3",
   "version": "3.9.7"
  }
 },
 "nbformat": 4,
 "nbformat_minor": 5
}
